{
 "cells": [
  {
   "cell_type": "markdown",
   "metadata": {
    "id": "s26AyhYpWDq5"
   },
   "source": [
    "## The Uniform Distribution"
   ]
  },
  {
   "cell_type": "markdown",
   "metadata": {
    "id": "zpBI2awMW6Oc"
   },
   "source": [
    "Load libraries. We use the scipy.stats library."
   ]
  },
  {
   "cell_type": "code",
   "execution_count": 1,
   "metadata": {
    "id": "grtbaBqpWDq6"
   },
   "outputs": [],
   "source": [
    "import scipy.stats as stats"
   ]
  },
  {
   "cell_type": "markdown",
   "metadata": {
    "id": "oByCe-f4WabL"
   },
   "source": [
    "Use scipy library to create a randam uniform distribution data (100000 numbers from 0 to 10)"
   ]
  },
  {
   "cell_type": "code",
   "execution_count": 2,
   "metadata": {
    "id": "bZDkJE3EWDq8"
   },
   "outputs": [
    {
     "name": "stdout",
     "output_type": "stream",
     "text": [
      "Random uniform distribution values : \n",
      " [4.0608422  4.70776844 9.6987772  ... 4.54987939 0.47886759 9.13323264]\n"
     ]
    }
   ],
   "source": [
    "import scipy.stats as stats\n",
    "\n",
    "randomUniformDistribution = stats.uniform.rvs(size=100000,loc = 0, scale=10) \n",
    "print(\"Random uniform distribution values : \\n\", randomUniformDistribution)"
   ]
  },
  {
   "cell_type": "markdown",
   "metadata": {
    "id": "VDFCdnvxXKBO"
   },
   "source": [
    "Plot the following density distribution.\n",
    "You can use figsize=(9,9), xlim=(-1,11)"
   ]
  },
  {
   "cell_type": "code",
   "execution_count": 3,
   "metadata": {
    "colab": {
     "base_uri": "https://localhost:8080/",
     "height": 537
    },
    "executionInfo": {
     "elapsed": 6133,
     "status": "ok",
     "timestamp": 1643988578835,
     "user": {
      "displayName": "Xiaoli Huan",
      "photoUrl": "https://lh3.googleusercontent.com/a/default-user=s64",
      "userId": "12700089891795799701"
     },
     "user_tz": 360
    },
    "id": "sv6O_1QTWDq8",
    "outputId": "5dca24b2-a70e-4f83-ff6e-aec088124646"
   },
   "outputs": [
    {
     "data": {
      "text/plain": [
       "<AxesSubplot:ylabel='Density'>"
      ]
     },
     "execution_count": 3,
     "metadata": {},
     "output_type": "execute_result"
    },
    {
     "data": {
      "image/png": "[encoded data removed]",
      "text/plain": [
       "<Figure size 648x648 with 1 Axes>"
      ]
     },
     "metadata": {
      "needs_background": "light"
     },
     "output_type": "display_data"
    }
   ],
   "source": [
    "%matplotlib inline\n",
    "\n",
    "import numpy as np\n",
    "import pandas as pd\n",
    "import matplotlib.pyplot as plt\n",
    "import scipy.stats as stats\n",
    "\n",
    "uniform_data = stats.uniform.rvs(size=100000, loc = 0, scale=10)     \n",
    "pd.DataFrame(uniform_data).plot(kind=\"density\", figsize=(9,9), xlim=(-1,11))"
   ]
  },
  {
   "cell_type": "markdown",
   "metadata": {
    "id": "fTrcokY6WDq9"
   },
   "source": [
    "\n",
    "\n",
    "Check scipy libraries and use useful functions. "
   ]
  },
  {
   "cell_type": "markdown",
   "metadata": {
    "id": "zksEWTRzYZRW"
   },
   "source": [
    "cdf (cumulative distribution function) gives you the area under the distribution's density curve to the left of a certain value on the x axis. Calculate cdf with x axis from 0 to 2.5. "
   ]
  },
  {
   "cell_type": "code",
   "execution_count": 4,
   "metadata": {
    "colab": {
     "base_uri": "https://localhost:8080/"
    },
    "executionInfo": {
     "elapsed": 17,
     "status": "ok",
     "timestamp": 1643988578837,
     "user": {
      "displayName": "Xiaoli Huan",
      "photoUrl": "https://lh3.googleusercontent.com/a/default-user=s64",
      "userId": "12700089891795799701"
     },
     "user_tz": 360
    },
    "id": "h9rCwTP9WDq-",
    "outputId": "a5938499-cf68-4ce0-8f62-a8d2d89a8a36"
   },
   "outputs": [
    {
     "data": {
      "text/plain": [
       "0.25"
      ]
     },
     "execution_count": 4,
     "metadata": {},
     "output_type": "execute_result"
    }
   ],
   "source": [
    "stats.uniform.cdf(x=2.5, loc=0,scale=10)"
   ]
  },
  {
   "cell_type": "markdown",
   "metadata": {
    "id": "YSH29ZK1WDq_"
   },
   "source": [
    "ppf() is the inverse of cdf(): it returns the x axis cutoff value (quantile) associated with a given probability. Caculate the cutoff value for propabality with 40%."
   ]
  },
  {
   "cell_type": "code",
   "execution_count": 5,
   "metadata": {
    "colab": {
     "base_uri": "https://localhost:8080/"
    },
    "executionInfo": {
     "elapsed": 15,
     "status": "ok",
     "timestamp": 1643988578837,
     "user": {
      "displayName": "Xiaoli Huan",
      "photoUrl": "https://lh3.googleusercontent.com/a/default-user=s64",
      "userId": "12700089891795799701"
     },
     "user_tz": 360
    },
    "id": "0Qdov9KjWDq_",
    "outputId": "f84ec513-8308-410a-8c67-bbacdebefe10"
   },
   "outputs": [
    {
     "data": {
      "text/plain": [
       "4.0"
      ]
     },
     "execution_count": 5,
     "metadata": {},
     "output_type": "execute_result"
    }
   ],
   "source": [
    "stats.uniform.ppf(q=0.4, loc=0, scale=10)"
   ]
  },
  {
   "cell_type": "markdown",
   "metadata": {
    "id": "TCqkfCI5WDrA"
   },
   "source": [
    "Demonstrate for uniform distribution, x values within the range will have the same probability desity.  x values outside the range have a probability density of 0. The output is similar as the following."
   ]
  },
  {
   "cell_type": "code",
   "execution_count": 6,
   "metadata": {
    "colab": {
     "base_uri": "https://localhost:8080/"
    },
    "executionInfo": {
     "elapsed": 14,
     "status": "ok",
     "timestamp": 1643988578838,
     "user": {
      "displayName": "Xiaoli Huan",
      "photoUrl": "https://lh3.googleusercontent.com/a/default-user=s64",
      "userId": "12700089891795799701"
     },
     "user_tz": 360
    },
    "id": "KosCGaV6WDrA",
    "outputId": "762da409-e318-498a-9eb1-ec058b3df0b8"
   },
   "outputs": [
    {
     "name": "stdout",
     "output_type": "stream",
     "text": [
      "Density at x value -1\n",
      "0.0\n",
      "Density at x value 2\n",
      "0.1\n",
      "Density at x value 5\n",
      "0.1\n",
      "Density at x value 8\n",
      "0.1\n",
      "Density at x value 11\n",
      "0.0\n"
     ]
    }
   ],
   "source": [
    "for x in range(-1,12,3):\n",
    "    print(\"Density at x value \" + str(x))\n",
    "    print( stats.uniform.pdf(x, loc=0, scale=10) ) "
   ]
  },
  {
   "cell_type": "markdown",
   "metadata": {
    "id": "eDG_C5DLWDrA"
   },
   "source": [
    "Probability distribution functions in scipy also support median(), mean(), var() and std()."
   ]
  },
  {
   "cell_type": "markdown",
   "metadata": {
    "id": "dzU_xIDZWDrD"
   },
   "source": [
    "## The Normal Distribution"
   ]
  },
  {
   "cell_type": "markdown",
   "metadata": {
    "id": "4tlmrT-6WDrE"
   },
   "source": [
    "\n",
    "Use scipy's norm to have normal distribution (see the graph below) .  The normal distribution has default vaues of  mean of 0 and standard deviation of 1. Investigate what percentage of data generated by a default normal distribution is below -1. What percentage of data generated is above 1 and what percentage lies between -1 and 1. Print the three percentages. The output is similar as the following. "
   ]
  },
  {
   "cell_type": "code",
   "execution_count": 7,
   "metadata": {
    "colab": {
     "base_uri": "https://localhost:8080/"
    },
    "executionInfo": {
     "elapsed": 5,
     "status": "ok",
     "timestamp": 1643988579087,
     "user": {
      "displayName": "Xiaoli Huan",
      "photoUrl": "https://lh3.googleusercontent.com/a/default-user=s64",
      "userId": "12700089891795799701"
     },
     "user_tz": 360
    },
    "id": "4OrSDB0_WDrE",
    "outputId": "8f127208-946e-415b-a28c-6bd52d452113"
   },
   "outputs": [
    {
     "name": "stdout",
     "output_type": "stream",
     "text": [
      "0.15865525393145707 0.15865525393145707 0.6826894921370859\n"
     ]
    }
   ],
   "source": [
    "probUnderMinus1 = stats.norm.cdf(x = -1, loc = 0, scale= 1)     \n",
    "probOver1 = 1 - stats.norm.cdf(x = 1, loc = 0, scale= 1) \n",
    "probBetweenMinus1and1 = 1-(probUnderMinus1 + probOver1)\n",
    "\n",
    "print(probUnderMinus1, probOver1, probBetweenMinus1and1)"
   ]
  },
  {
   "cell_type": "markdown",
   "metadata": {
    "id": "wpzcmComWDrE"
   },
   "source": [
    "Plotting is not required. The codes will be included in the solution. The image below shows the bell shape normal distribution.  "
   ]
  },
  {
   "cell_type": "code",
   "execution_count": 8,
   "metadata": {
    "colab": {
     "base_uri": "https://localhost:8080/",
     "height": 537
    },
    "executionInfo": {
     "elapsed": 503,
     "status": "ok",
     "timestamp": 1643988579586,
     "user": {
      "displayName": "Xiaoli Huan",
      "photoUrl": "https://lh3.googleusercontent.com/a/default-user=s64",
      "userId": "12700089891795799701"
     },
     "user_tz": 360
    },
    "id": "aAhigYlmWDrE",
    "outputId": "fde3c1f4-4d84-4182-bbaa-d4dc54c469ec"
   },
   "outputs": [
    {
     "data": {
      "image/png": "[encoded data removed]",
      "text/plain": [
       "<Figure size 648x648 with 1 Axes>"
      ]
     },
     "metadata": {
      "needs_background": "light"
     },
     "output_type": "display_data"
    }
   ],
   "source": [
    "import matplotlib.pyplot as plt\n",
    "import numpy as np\n",
    "\n",
    "plt.rcParams[\"figure.figsize\"] = (9,9)\n",
    "                                  \n",
    "plt.fill_between(x=np.arange(-4,-1,0.01), \n",
    "                 y1= stats.norm.pdf(np.arange(-4,-1,0.01)) ,\n",
    "                 facecolor='red',\n",
    "                 alpha=0.35)\n",
    "\n",
    "plt.fill_between(x=np.arange(1,4,0.01), \n",
    "                 y1= stats.norm.pdf(np.arange(1,4,0.01)) ,\n",
    "                 facecolor='red',\n",
    "                 alpha=0.35)\n",
    "\n",
    "plt.fill_between(x=np.arange(-1,1,0.01), \n",
    "                 y1= stats.norm.pdf(np.arange(-1,1,0.01)) ,\n",
    "                 facecolor='blue',\n",
    "                 alpha=0.35)\n",
    "\n",
    "plt.text(x=-1.8, y=0.03, s= round(probUnderMinus1,3))\n",
    "plt.text(x=-0.2, y=0.1, s= round(probBetweenMinus1and1,3))\n",
    "plt.text(x=1.4, y=0.03, s= round(probOver1,3));"
   ]
  },
  {
   "cell_type": "markdown",
   "metadata": {
    "id": "y3_jL-q7WDrF"
   },
   "source": [
    "\n",
    "print the ppf for 2.5% cutoff and 97.5% cutoff. The output is similar as the following"
   ]
  },
  {
   "cell_type": "code",
   "execution_count": 9,
   "metadata": {
    "colab": {
     "base_uri": "https://localhost:8080/"
    },
    "executionInfo": {
     "elapsed": 237,
     "status": "ok",
     "timestamp": 1643988596033,
     "user": {
      "displayName": "Xiaoli Huan",
      "photoUrl": "https://lh3.googleusercontent.com/a/default-user=s64",
      "userId": "12700089891795799701"
     },
     "user_tz": 360
    },
    "id": "6z018RRmWDrF",
    "outputId": "9aac4ea4-d5a3-4f2f-de34-396e9a7c645c"
   },
   "outputs": [
    {
     "name": "stdout",
     "output_type": "stream",
     "text": [
      "-1.9599639845400545\n",
      "1.959963984540054\n"
     ]
    }
   ],
   "source": [
    "print( stats.norm.ppf(q=0.025) )\n",
    "print( stats.norm.ppf(q=0.975) )"
   ]
  },
  {
   "cell_type": "markdown",
   "metadata": {
    "id": "nV_a8hFzWDrF"
   },
   "source": [
    "The quantile output above confirms that roughly 5% of the data lies more than 2 standard deviations from the mean.\n"
   ]
  },
  {
   "cell_type": "markdown",
   "metadata": {
    "id": "jMRGOfRlWDrF"
   },
   "source": [
    "## The Binomial Distribution"
   ]
  },
  {
   "cell_type": "markdown",
   "metadata": {
    "id": "M_3gvuROWDrF"
   },
   "source": [
    "We will use binomial distribution to model coin flips. The scipy name for the binomial is binom. Here we set the number of flips per trial to 10,  the number of trials to 10000, and success probability to 0.5. \n",
    "\n",
    "Create a random binomial distribution data \"fair_coin_flips\" in the code line below."
   ]
  },
  {
   "cell_type": "code",
   "execution_count": 10,
   "metadata": {
    "id": "mkJxZbGIxizh"
   },
   "outputs": [],
   "source": [
    "import pandas as pd\n",
    "\n",
    "fair_coin_flips = stats.binom.rvs(n=10, p=0.5, size=10000)"
   ]
  },
  {
   "cell_type": "code",
   "execution_count": 11,
   "metadata": {
    "colab": {
     "base_uri": "https://localhost:8080/",
     "height": 605
    },
    "executionInfo": {
     "elapsed": 735,
     "status": "ok",
     "timestamp": 1643988580318,
     "user": {
      "displayName": "Xiaoli Huan",
      "photoUrl": "https://lh3.googleusercontent.com/a/default-user=s64",
      "userId": "12700089891795799701"
     },
     "user_tz": 360
    },
    "id": "n9AXH35TWDrF",
    "outputId": "8957f7e2-4c30-4a18-9d09-301da589e2a3",
    "scrolled": true
   },
   "outputs": [
    {
     "name": "stdout",
     "output_type": "stream",
     "text": [
      "col_0   0    1    2     3     4     5     6     7    8   9   10\n",
      "row_0                                                          \n",
      "counts  13  104  476  1211  2059  2335  2038  1197  468  87  12\n"
     ]
    },
    {
     "data": {
      "image/png": "[encoded data removed]",
      "text/plain": [
       "<Figure size 648x648 with 1 Axes>"
      ]
     },
     "metadata": {
      "needs_background": "light"
     },
     "output_type": "display_data"
    }
   ],
   "source": [
    "# Codes are provided here. \n",
    "# Print out the counts for 0 heads, 1 head, ...10 heads of each trial with 10000 trials. \n",
    "print( pd.crosstab(index=\"counts\", columns= fair_coin_flips))\n",
    "# Draw the histogram.\n",
    "pd.DataFrame(fair_coin_flips).hist(range=(-0.5,10.5), bins=11);"
   ]
  },
  {
   "cell_type": "markdown",
   "metadata": {
    "id": "6NOTE2BIWDrG"
   },
   "source": [
    "The histogram above shows us that a binomial distribution with a 50% probability of success is roughly symmetric, with the most likely outcomes lying at the center. \n",
    "Change the success rate to 0.8, implement the codes similar as above to show the distribution won't be symmetric:"
   ]
  },
  {
   "cell_type": "code",
   "execution_count": 12,
   "metadata": {
    "colab": {
     "base_uri": "https://localhost:8080/",
     "height": 605
    },
    "executionInfo": {
     "elapsed": 479,
     "status": "ok",
     "timestamp": 1643988580794,
     "user": {
      "displayName": "Xiaoli Huan",
      "photoUrl": "https://lh3.googleusercontent.com/a/default-user=s64",
      "userId": "12700089891795799701"
     },
     "user_tz": 360
    },
    "id": "ayZSW5zmWDrG",
    "outputId": "9b6e5bc1-2137-478d-f670-c6021be75c1a"
   },
   "outputs": [
    {
     "name": "stdout",
     "output_type": "stream",
     "text": [
      "col_0   3   4    5    6     7     8     9     10\n",
      "row_0                                           \n",
      "counts   4  79  294  862  2015  3039  2640  1067\n"
     ]
    },
    {
     "data": {
      "image/png": "[encoded data removed]",
      "text/plain": [
       "<Figure size 648x648 with 1 Axes>"
      ]
     },
     "metadata": {
      "needs_background": "light"
     },
     "output_type": "display_data"
    }
   ],
   "source": [
    "riggedCoinFlips = stats.binom.rvs(n=10, p=0.8, size=10000)\n",
    "\n",
    "print( pd.crosstab(index=\"counts\", columns= riggedCoinFlips))\n",
    "pd.DataFrame(riggedCoinFlips).hist(range=(-0.5,10.5), bins=11);"
   ]
  },
  {
   "cell_type": "markdown",
   "metadata": {
    "id": "ybMhEMhOWDrG"
   },
   "source": [
    "Continue from above binomial distribution(success rate=0.8), give the codes to get the probability of achieving 5 heads or less with 10 flips."
   ]
  },
  {
   "cell_type": "code",
   "execution_count": 13,
   "metadata": {
    "colab": {
     "base_uri": "https://localhost:8080/"
    },
    "executionInfo": {
     "elapsed": 234,
     "status": "ok",
     "timestamp": 1643988581025,
     "user": {
      "displayName": "Xiaoli Huan",
      "photoUrl": "https://lh3.googleusercontent.com/a/default-user=s64",
      "userId": "12700089891795799701"
     },
     "user_tz": 360
    },
    "id": "Fhm0ScKWWDrG",
    "outputId": "c694302b-e37b-40bd-a66d-d93d22064eb3"
   },
   "outputs": [
    {
     "data": {
      "text/plain": [
       "0.03279349759999997"
      ]
     },
     "execution_count": 13,
     "metadata": {},
     "output_type": "execute_result"
    }
   ],
   "source": [
    "stats.binom.cdf(k=5, n=10, p=0.8)"
   ]
  },
  {
   "cell_type": "markdown",
   "metadata": {
    "id": "EdSbcxw62Y9x"
   },
   "source": [
    "Continue from above binomial distribution(success rate=0.8), give the codes to get the probability of achieving 9 heads or more with 10 flips."
   ]
  },
  {
   "cell_type": "code",
   "execution_count": 14,
   "metadata": {
    "colab": {
     "base_uri": "https://localhost:8080/"
    },
    "executionInfo": {
     "elapsed": 4,
     "status": "ok",
     "timestamp": 1643988581025,
     "user": {
      "displayName": "Xiaoli Huan",
      "photoUrl": "https://lh3.googleusercontent.com/a/default-user=s64",
      "userId": "12700089891795799701"
     },
     "user_tz": 360
    },
    "id": "HBxh9yKQWDrG",
    "outputId": "668ef6b9-b62c-4056-fa68-4b2b195fe6d1"
   },
   "outputs": [
    {
     "data": {
      "text/plain": [
       "0.37580963840000015"
      ]
     },
     "execution_count": 14,
     "metadata": {},
     "output_type": "execute_result"
    }
   ],
   "source": [
    "1 - stats.binom.cdf(k=8, n=10, p=0.8)"
   ]
  },
  {
   "cell_type": "markdown",
   "metadata": {
    "id": "muBEhjHyWDrH"
   },
   "source": [
    "For continuous probability density functions, you use pdf() to check the probability density at a given x value. For discrete distributions like the binomial, use stats.distribution.pmf() (probability mass function) to check the mass (proportion of observations) at given number of successes k. \n",
    "Write codes to give the probability density at 5 heads with success rate of 0.5 of 10 flips."
   ]
  },
  {
   "cell_type": "code",
   "execution_count": 15,
   "metadata": {
    "colab": {
     "base_uri": "https://localhost:8080/"
    },
    "executionInfo": {
     "elapsed": 4,
     "status": "ok",
     "timestamp": 1643988581026,
     "user": {
      "displayName": "Xiaoli Huan",
      "photoUrl": "https://lh3.googleusercontent.com/a/default-user=s64",
      "userId": "12700089891795799701"
     },
     "user_tz": 360
    },
    "id": "pn7DjhdIWDrH",
    "outputId": "82bc499a-eb18-44c1-e088-5090de6d8304"
   },
   "outputs": [
    {
     "data": {
      "text/plain": [
       "0.24609375000000003"
      ]
     },
     "execution_count": 15,
     "metadata": {},
     "output_type": "execute_result"
    }
   ],
   "source": [
    "stats.binom.pmf(k=5, n=10, p=0.5)"
   ]
  },
  {
   "cell_type": "markdown",
   "metadata": {
    "id": "yygZPFEa8TEG"
   },
   "source": [
    "What about the probability density at 8 heads with success rate of 0.8 of 10 flips?"
   ]
  },
  {
   "cell_type": "code",
   "execution_count": 16,
   "metadata": {
    "colab": {
     "base_uri": "https://localhost:8080/"
    },
    "executionInfo": {
     "elapsed": 4,
     "status": "ok",
     "timestamp": 1643988581026,
     "user": {
      "displayName": "Xiaoli Huan",
      "photoUrl": "https://lh3.googleusercontent.com/a/default-user=s64",
      "userId": "12700089891795799701"
     },
     "user_tz": 360
    },
    "id": "XNCfMBj6WDrH",
    "outputId": "40b81817-a973-445e-868e-1b988907844c"
   },
   "outputs": [
    {
     "data": {
      "text/plain": [
       "0.30198988799999993"
      ]
     },
     "execution_count": 16,
     "metadata": {},
     "output_type": "execute_result"
    }
   ],
   "source": [
    "stats.binom.pmf(k=8, n=10, p=0.8)"
   ]
  },
  {
   "cell_type": "markdown",
   "metadata": {
    "id": "LKqkiSsnWDrJ"
   },
   "source": [
    "## Wrap Up"
   ]
  },
  {
   "cell_type": "markdown",
   "metadata": {
    "id": "HEVLHyABWDrK"
   },
   "source": [
    "Extra information of Exponential Distributions and Poisson Distributions will be given in the solution. \n",
    "\n",
    "\n",
    "Python's scipy library contains functions that make it easy to work with a wide range of probability distributions, including [many that we did not discuss](https://docs.scipy.org/doc/scipy/reference/stats.html) in this lesson. Probability distribution functions are useful for generating random data, modeling random events and aiding with statistical tests and analysis.\n"
   ]
  }
 ],
 "metadata": {
  "colab": {
   "collapsed_sections": [],
   "name": "homework3.ipynb",
   "provenance": []
  },
  "kernelspec": {
   "display_name": "Python 3 (ipykernel)",
   "language": "python",
   "name": "python3"
  },
  "language_info": {
   "codemirror_mode": {
    "name": "ipython",
    "version": 3
   },
   "file_extension": ".py",
   "mimetype": "text/x-python",
   "name": "python",
   "nbconvert_exporter": "python",
   "pygments_lexer": "ipython3",
   "version": "3.9.7"
  }
 },
 "nbformat": 4,
 "nbformat_minor": 1
}
